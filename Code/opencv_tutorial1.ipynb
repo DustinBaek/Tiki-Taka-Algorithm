{
 "cells": [
  {
   "cell_type": "code",
   "execution_count": 2,
   "metadata": {},
   "outputs": [],
   "source": [
    "'''How to read, Write, Show Videos from Camera'''\n",
    "\n",
    "import cv2"
   ]
  },
  {
   "cell_type": "code",
   "execution_count": 2,
   "metadata": {},
   "outputs": [],
   "source": [
    "img =cv2.imread('lena.jpg', 1)\n",
    "# print(img)"
   ]
  },
  {
   "cell_type": "code",
   "execution_count": 3,
   "metadata": {
    "scrolled": true
   },
   "outputs": [],
   "source": [
    "# img.type() is numpy array"
   ]
  },
  {
   "cell_type": "code",
   "execution_count": 8,
   "metadata": {},
   "outputs": [],
   "source": [
    "cv2.imshow('image', img)\n",
    "k = cv2.waitKey()\n",
    "cv2.destroyAllWindows()\n",
    "# shows image for 5sec \n",
    "\n",
    "# if k == 27: # 27 => esc key\n",
    "#     cv2.destroyAllWindows()\n",
    "# elif k == ord('s'):\n",
    "#     cv2.imwrite(\"lena_copy.png\",img)\n",
    "#     cv2.destroyAllWindows()"
   ]
  },
  {
   "cell_type": "code",
   "execution_count": 5,
   "metadata": {},
   "outputs": [
    {
     "data": {
      "text/plain": [
       "True"
      ]
     },
     "execution_count": 5,
     "metadata": {},
     "output_type": "execute_result"
    }
   ],
   "source": [
    "cv2.imwrite(\"lena_copy.png\",img) \n",
    "# creating img called lena_copy.png"
   ]
  },
  {
   "cell_type": "code",
   "execution_count": 5,
   "metadata": {},
   "outputs": [
    {
     "name": "stdout",
     "output_type": "stream",
     "text": [
      "True\n"
     ]
    }
   ],
   "source": [
    "'''how to read write show videos from camera'''\n",
    "import cv2\n",
    "cap = cv2.VideoCapture(0)\n",
    "# getting available camera\n",
    "# 0 or -1 device index\n",
    "# multiple cameras 1,2..\n",
    "\n",
    "fourcc = cv2.VideoWriter_fourcc(*'XVID')\n",
    "# fourcc = cv2.VideoWriter_fourcc('X','V','I','D')\n",
    "\n",
    "out = cv2.VideoWriter('output.avi', fourcc, 20.0, (640,480))\n",
    "# saving the video\n",
    "#(name of file, source, frame speed, size of the video)\n",
    "\n",
    "print(cap.isOpened())\n",
    "# whether the camera is available or not\n",
    "\n",
    "while(cap.isOpened()):\n",
    "    ret, frame = cap.read()\n",
    "\n",
    "    if ret == True:\n",
    "    #         print(cap.get(cv2.CAP_PROP_FRAME_WIDTH))\n",
    "    #         print(cap.get(cv2.CAP_PROP_FRAME_HEIGHT))\n",
    "\n",
    "        out.write(frame)\n",
    "    #       저장시키는 명령어 from VideoWriter\n",
    "\n",
    "        gray = cv2.cvtColor(frame, cv2.COLOR_BGR2GRAY)\n",
    "        cv2.imshow('frame',gray)\n",
    "\n",
    "        if cv2.waitKey(1) == ord('q'):\n",
    "            break\n",
    "    else:\n",
    "        break\n",
    "#이 else가 없어야지 말이됨 아니면 바로 꺼짐\n",
    "\n",
    "#without while loop smt pops up and disappears\n",
    "\n",
    "# cap.release()\n",
    "# out.release()\n",
    "####releassing software/hardware resource allocated to that variable###\n",
    "cv2.destroyAllWindows()\n",
    "##이거 없으면 에러뜸\n"
   ]
  },
  {
   "cell_type": "code",
   "execution_count": 4,
   "metadata": {},
   "outputs": [
    {
     "name": "stdout",
     "output_type": "stream",
     "text": [
      "True\n",
      "False\n"
     ]
    }
   ],
   "source": [
    "cap = cv2.VideoCapture(0)\n",
    "\n",
    "print(cap.isOpened())\n",
    "\n",
    "while(cap.isOpened()):\n",
    "    ret,frame = cap.read()\n",
    "    print(ret)\n",
    "    if ret == True:\n",
    "        cv2.imshow('camera',frame)\n",
    "        if cv2.waitKey(1) & 0xFF == ord('q'):\n",
    "            break\n",
    "    else:\n",
    "        break\n",
    "cv2.destroyAllWindows()"
   ]
  },
  {
   "cell_type": "code",
   "execution_count": 21,
   "metadata": {},
   "outputs": [],
   "source": [
    "'''Draw Geometric shapes on images'''\n",
    "import cv2\n",
    "import numpy as np\n",
    "\n",
    "img = cv2.imread('lena.jpg',1)\n",
    "#or\n",
    "img = np.zeros([512,512,3], dtype=np.uint8)\n",
    "#검정색 바탕의 이미지를 불러옴\n",
    "\n",
    "img = cv2.line(img, (0,0), (255,255), (0,0,255), 10)\n",
    "# draw line image, start coordinate(x=width,y=height), end coordinate, BGR, line thickness\n",
    "\n",
    "img = cv2.arrowedLine(img, (0,255), (255,255), (0,0,255), 10)\n",
    "#draw arrowed line\n",
    "\n",
    "img = cv2.rectangle(img, (0,0), (255,255), (255,0,0), -1)\n",
    "#맨끝에 -1이오면 그색깔로 사각형을 fill함 or cv2.FILLED\n",
    "\n",
    "img = cv2.circle(img, (447,63), 100, (0,255,0), -1)\n",
    "\n",
    "font = cv2.FONT_HERSHEY_SIMPLEX\n",
    "img = cv2.putText(img, \"OpenCV\", (10,500), font, 4, (255,255,255), 10, cv2.LINE_AA)\n",
    "#image, 텍스트, 텍스트 시작 coordinate, 폰트 타입, 폰트사이즈, 색깔, 글씨 thickness, Line type\n",
    "\n",
    "\n",
    "cv2.imshow('image', img)\n",
    "k = cv2.waitKey(0)\n",
    "\n",
    "if k == ord('q'):\n",
    "    cv2.destroyAllWindows()"
   ]
  },
  {
   "cell_type": "code",
   "execution_count": 15,
   "metadata": {},
   "outputs": [
    {
     "name": "stdout",
     "output_type": "stream",
     "text": [
      "(512, 512, 3)\n"
     ]
    }
   ],
   "source": [
    "import numpy as np\n",
    "img = np.zeros([512,512,3], dtype=np.uint8)\n",
    "#512x3인 zeros가 512개의 filter/batch로 존재\n",
    "print(img.shape)"
   ]
  },
  {
   "cell_type": "code",
   "execution_count": 1,
   "metadata": {},
   "outputs": [
    {
     "name": "stdout",
     "output_type": "stream",
     "text": [
      "640.0\n",
      "480.0\n",
      "1280.0\n",
      "720.0\n"
     ]
    }
   ],
   "source": [
    "'''Setting Camera Parameters'''\n",
    "import cv2\n",
    "cap = cv2.VideoCapture(0)\n",
    "print(cap.get(cv2.CAP_PROP_FRAME_WIDTH))\n",
    "print(cap.get(cv2.CAP_PROP_FRAME_HEIGHT))\n",
    "\n",
    "cap.set(3, 1208)\n",
    "#changing proeprty index(3 means frame width), 1208 means cpature width\n",
    "cap.set(4, 720)\n",
    "#changing proeprty index(4 means frame height), 720 means cpature height\n",
    "\n",
    "\n",
    "print(cap.get(3))\n",
    "###every camera property has defined number###\n",
    "print(cap.get(4))\n",
    "\n",
    "while(cap.isOpened()):\n",
    "    ret, frame = cap.read()\n",
    "    if ret == True:\n",
    "        \n",
    "#         gray = cv2.cvtColor(frame,)\n",
    "        cv2.imshow('frame', frame)\n",
    "        \n",
    "    if cv2.waitKey(1) == ord('q'):\n",
    "        break\n",
    "\n",
    "cap.release()\n",
    "cv2.destroyAllWindows()"
   ]
  },
  {
   "cell_type": "code",
   "execution_count": 2,
   "metadata": {},
   "outputs": [],
   "source": [
    "'''Show Date and Time on Video'''\n",
    "import cv2\n",
    "import datetime\n",
    "\n",
    "cap = cv2.VideoCapture(0)\n",
    "# print(cap.get(3))\n",
    "# print(cap.get(4))\n",
    "# cap.set(3,1280)\n",
    "# cap.set(4,720)\n",
    "\n",
    "while(cap.isOpened()):\n",
    "    ret, frame = cap.read()\n",
    "    if ret == True:\n",
    "        \n",
    "        font = cv2.FONT_HERSHEY_SIMPLEX\n",
    "        text = 'Width: ' + str(cap.get(3)) + 'Height: ' + str(cap.get(4))\n",
    "        date = str(datetime.datetime.now())\n",
    "        frame = cv2.putText(frame, date, (10,50), font, 1, \n",
    "                            (0,255,255), 2, cv2.LINE_AA)\n",
    "#         image, text, starting coordinate, font, font scale, text color,\n",
    "#         text thickness, text style\n",
    "        cv2.imshow('frame', frame)\n",
    "        \n",
    "        if cv2.waitKey(1) == ord('q'):\n",
    "            break\n",
    "#             cv2.waitKey(0)했더니만 무수히많은 스크린샷들이 나옴\n",
    "#     else:\n",
    "#         break\n",
    "        \n",
    "cap.release()\n",
    "cv2.destroyAllWindows()\n",
    "######이거없으면 비디오 창 닫을때 에러오짐\n",
    "        "
   ]
  },
  {
   "cell_type": "code",
   "execution_count": 21,
   "metadata": {},
   "outputs": [
    {
     "name": "stdout",
     "output_type": "stream",
     "text": [
      "['EVENT_FLAG_ALTKEY', 'EVENT_FLAG_CTRLKEY', 'EVENT_FLAG_LBUTTON', 'EVENT_FLAG_MBUTTON', 'EVENT_FLAG_RBUTTON', 'EVENT_FLAG_SHIFTKEY', 'EVENT_LBUTTONDBLCLK', 'EVENT_LBUTTONDOWN', 'EVENT_LBUTTONUP', 'EVENT_MBUTTONDBLCLK', 'EVENT_MBUTTONDOWN', 'EVENT_MBUTTONUP', 'EVENT_MOUSEHWHEEL', 'EVENT_MOUSEMOVE', 'EVENT_MOUSEWHEEL', 'EVENT_RBUTTONDBLCLK', 'EVENT_RBUTTONDOWN', 'EVENT_RBUTTONUP']\n",
      "177 , 126\n",
      "190 , 208\n",
      "84 , 207\n",
      "191 , 247\n"
     ]
    }
   ],
   "source": [
    "'''Handle Mouse Events'''\n",
    "import numpy as np\n",
    "import cv2\n",
    "\n",
    "events = [i for i in dir(cv2) if 'EVENT' in i]\n",
    "# dir shows all the classes, functions, variables in package\n",
    "print(events)\n",
    "\n",
    "###x,y is coordinates\n",
    "def click_event(event, x, y, flags, param):\n",
    "    if event == cv2.EVENT_LBUTTONDOWN:\n",
    "        print(x, ',',y)\n",
    "        font = cv2.FONT_HERSHEY_SIMPLEX\n",
    "        strXY = str(x) + ',' + str(y)\n",
    "        cv2.putText(img, strXY, (x,y), font, 1, (255,255,0), 2)\n",
    "        cv2.imshow('image', img)\n",
    "    elif event == cv2.EVENT_RBUTTONDOWN:\n",
    "        blue = img[y, x, 0]\n",
    "        green = img[y, x, 1]\n",
    "        red = img[y, x, 2]\n",
    "        font = cv2.FONT_HERSHEY_SIMPLEX\n",
    "        strBGR = str(blue) + ',' + str(green) + ',' + str(red)\n",
    "        cv2.putText(img, strBGR, (x,y), font, 1, (0,255,255), 2)\n",
    "        cv2.imshow('image', img)\n",
    "    \n",
    "# img  = np.zeros((512,512,3), np.uint8)\n",
    "### black image\n",
    "\n",
    "img = cv2.imread('lena.jpg',1)\n",
    "cv2.imshow('image',img)\n",
    "\n",
    "cv2.setMouseCallback('image', click_event)\n",
    "#### 'image'이거 이름은 callback function안에 지정해둔 이름과 cv2.imshow('image',img)\n",
    "#### 이름과 동일해야함\n",
    "#'image', callbackfucntion(i.e. click_event)\n",
    "\n",
    "cv2.waitKey()\n",
    "cv2.destroyAllWindows()\n",
    "    \n",
    "    "
   ]
  },
  {
   "cell_type": "code",
   "execution_count": 18,
   "metadata": {},
   "outputs": [
    {
     "name": "stdout",
     "output_type": "stream",
     "text": [
      "['EVENT_FLAG_ALTKEY', 'EVENT_FLAG_CTRLKEY', 'EVENT_FLAG_LBUTTON', 'EVENT_FLAG_MBUTTON', 'EVENT_FLAG_RBUTTON', 'EVENT_FLAG_SHIFTKEY', 'EVENT_LBUTTONDBLCLK', 'EVENT_LBUTTONDOWN', 'EVENT_LBUTTONUP', 'EVENT_MBUTTONDBLCLK', 'EVENT_MBUTTONDOWN', 'EVENT_MBUTTONUP', 'EVENT_MOUSEHWHEEL', 'EVENT_MOUSEMOVE', 'EVENT_MOUSEWHEEL', 'EVENT_RBUTTONDBLCLK', 'EVENT_RBUTTONDOWN', 'EVENT_RBUTTONUP']\n"
     ]
    }
   ],
   "source": [
    "'''More Mouse Event Examples'''\n",
    "import numpy as np\n",
    "import cv2\n",
    "\n",
    "events = [i for i in dir(cv2) if 'EVENT' in i]\n",
    "# dir shows all the classes, functions, variables in package\n",
    "print(events)\n",
    "\n",
    "###x,y is coordinates\n",
    "def click_event(event, x, y, flags, param):\n",
    "    if event == cv2.EVENT_LBUTTONDOWN:\n",
    "        cv2.circle(img, (x,y), 3, (0,0,255), -1)\n",
    "        points.append((x,y))\n",
    "        if len(points) >= 2:\n",
    "            cv2.line(img, points[-1], points[-2], (255,0,0), 5)\n",
    "        cv2.imshow('image', img)\n",
    "    \n",
    "    \n",
    "img  = np.zeros((512,512,3), np.uint8)\n",
    "### black image\n",
    "\n",
    "# img = cv2.imread('lena.jpg',1)\n",
    "cv2.imshow('image',img)\n",
    "points=[]\n",
    "\n",
    "cv2.setMouseCallback('image', click_event)\n",
    "#### 'image'이거 이름은 callback function안에 지정해둔 이름과 cv2.imshow('image',img)\n",
    "#### 이름과 동일해야함\n",
    "#'image', callbackfucntion(i.e. click_event)\n",
    "\n",
    "cv2.waitKey()\n",
    "cv2.destroyAllWindows()"
   ]
  },
  {
   "cell_type": "code",
   "execution_count": 1,
   "metadata": {},
   "outputs": [],
   "source": [
    "import numpy as np\n",
    "import cv2\n",
    "\n",
    "def click_event(event, x, y, flags, param):\n",
    "    if event == cv2.EVENT_LBUTTONDOWN:\n",
    "        blue = img[x,y,0]\n",
    "        ##same way of indexing an array like img[x][y][0]\n",
    "        #remember, img array is 512,512,3 where channel, height, width\n",
    "        green = img[x,y,1]\n",
    "        red = img[x,y,2]\n",
    "        cv2.circle(img, (x,y), 3, (0,0,255), -1)\n",
    "        mycolorimage = np.zeros((512,512,3), np.uint8)\n",
    "        \n",
    "        mycolorimage[:] = [blue, green ,red]\n",
    "        \n",
    "        cv2.imshow('color', mycolorimage)\n",
    "\n",
    "img = cv2.imread('lena.jpg',1)\n",
    "cv2.imshow('image',img)\n",
    "\n",
    "cv2.setMouseCallback('image', click_event)\n",
    "\n",
    "cv2.waitKey(0)\n",
    "cv2.destroyAllWindows()"
   ]
  },
  {
   "cell_type": "code",
   "execution_count": 37,
   "metadata": {},
   "outputs": [
    {
     "name": "stdout",
     "output_type": "stream",
     "text": [
      "512\n",
      "128\n"
     ]
    }
   ],
   "source": [
    "import cv2\n",
    "import numpy as np\n",
    "img = cv2.imread('lena.jpg',1)\n",
    "print(len(img[0]))\n",
    "blue=  img[0][0][0]\n",
    "print(blue)\n",
    "\n",
    "##opencv에서 cv2.imread한 image는 아마도 (512,512,3)이면 3이 BGR을 뜻하고\n",
    "##첫번째 512가 x coordinate 두번째 512가 y coordinate을 나타낸다\n",
    "##so like in channel wise it shows x coordinates\n",
    "## and in one channel each row represents y coordinate"
   ]
  },
  {
   "cell_type": "code",
   "execution_count": 6,
   "metadata": {},
   "outputs": [
    {
     "name": "stdout",
     "output_type": "stream",
     "text": [
      "[[[ 2.17691853  0.60107686 -0.1499704 ]\n",
      "  [ 0.63746245 -1.81666025  0.06456691]\n",
      "  [ 1.78771895 -0.39859026  0.84064198]]\n",
      "\n",
      " [[ 1.35434824  1.3777332  -0.60726082]\n",
      "  [ 0.02407242  0.22602255 -0.79709878]\n",
      "  [ 1.43121376  0.39488294  1.2367611 ]]\n",
      "\n",
      " [[ 1.06753228  0.23419964  0.12902977]\n",
      "  [-0.3924453  -0.18379117 -0.49183802]\n",
      "  [ 0.38439591 -2.7024487   0.47467421]]\n",
      "\n",
      " [[ 0.42519436  2.12117484 -1.31253326]\n",
      "  [ 1.21155108 -0.16063377  0.59330619]\n",
      "  [-0.67566536 -1.29863262  0.50535613]]]\n",
      "------\n",
      "[[ 2.17691853  0.60107686 -0.1499704 ]\n",
      " [ 0.63746245 -1.81666025  0.06456691]\n",
      " [ 1.78771895 -0.39859026  0.84064198]]\n",
      "[ 2.17691853  0.60107686 -0.1499704 ]\n",
      "\n",
      "\n",
      "[[ 2.17691853  0.60107686 -0.1499704 ]\n",
      " [ 1.35434824  1.3777332  -0.60726082]\n",
      " [ 1.06753228  0.23419964  0.12902977]\n",
      " [ 0.42519436  2.12117484 -1.31253326]]\n",
      "[[[255.   0.   0.]\n",
      "  [255.   0.   0.]\n",
      "  [255.   0.   0.]]\n",
      "\n",
      " [[255.   0.   0.]\n",
      "  [255.   0.   0.]\n",
      "  [255.   0.   0.]]\n",
      "\n",
      " [[255.   0.   0.]\n",
      "  [255.   0.   0.]\n",
      "  [255.   0.   0.]]\n",
      "\n",
      " [[255.   0.   0.]\n",
      "  [255.   0.   0.]\n",
      "  [255.   0.   0.]]]\n"
     ]
    }
   ],
   "source": [
    "import numpy.random as rd\n",
    "a = rd.randn(4,3,3)\n",
    "print(a)\n",
    "print('------')\n",
    "print(a[0])\n",
    "print(a[0][0])\n",
    "print('\\n')\n",
    "print(a[:,0])\n",
    "a[:]=255,0,0\n",
    "# print(b)\n",
    "print(a[:])\n",
    "#getting first row of all the channels"
   ]
  },
  {
   "cell_type": "code",
   "execution_count": null,
   "metadata": {},
   "outputs": [],
   "source": []
  },
  {
   "cell_type": "code",
   "execution_count": null,
   "metadata": {},
   "outputs": [],
   "source": []
  },
  {
   "cell_type": "code",
   "execution_count": null,
   "metadata": {},
   "outputs": [],
   "source": []
  },
  {
   "cell_type": "code",
   "execution_count": null,
   "metadata": {},
   "outputs": [],
   "source": []
  }
 ],
 "metadata": {
  "kernelspec": {
   "display_name": "Python 3",
   "language": "python",
   "name": "python3"
  },
  "language_info": {
   "codemirror_mode": {
    "name": "ipython",
    "version": 3
   },
   "file_extension": ".py",
   "mimetype": "text/x-python",
   "name": "python",
   "nbconvert_exporter": "python",
   "pygments_lexer": "ipython3",
   "version": "3.8.5"
  }
 },
 "nbformat": 4,
 "nbformat_minor": 4
}
